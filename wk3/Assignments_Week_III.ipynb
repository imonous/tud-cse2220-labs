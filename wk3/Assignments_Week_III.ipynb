{
 "cells": [
  {
   "cell_type": "markdown",
   "id": "9f4011b0",
   "metadata": {},
   "source": [
    "# Assignments Week III.<br><br>Filters and Sampling\n",
    "<hr style=\"height:1px; border:none; background-color:blue;\">\n",
    "\n",
    "### Useful Information\n",
    "\n",
    "**In this notebook you will be working on the mandatory assignments for week three of Signal Processing**. In order to complete the notebook you must complete all of the necessary code blocks (labelled with \"Write your code here\"), and fill in all answer blocks. Each section of the notebook will state the completion criteria, which summarize everything you need to do to complete that section. **If you are stuck on a section in this notebook, it may be beneficial to check the non-mandatory exercises for this week, since they may have content that can help you!**\n",
    "\n",
    "Mandatory assignments are pass or fail. **If your notebook is incomplete - meaning you did not complete the task required or answer the necessary questions - then you will automatically fail.** So once you finish this notebook, please look through it to make sure you've answered everything!\n",
    "\n",
    "Once you've completed this notebook you must go to a lab to get it graded in person.\n",
    "\n",
    "\n",
    "<hr style=\"height:1px; border:none; background-color:blue;\">\n",
    "\n",
    "### Objectives\n",
    "- Determine the minimally required sampling rate.\n",
    "- Analyze the effects of over- and undersampling, and audible effects.\n",
    "- Explore how different FIR filters can impact a GPS-signal.\n",
    "\n",
    "<hr style=\"height:3px; border:none; background-color:blue;\">"
   ]
  },
  {
   "cell_type": "markdown",
   "id": "15421159",
   "metadata": {},
   "source": [
    "<h3 style=\"color:blue;\"> <u>Imports for Exercises and Assignments </u></h3> \n",
    "\n",
    "Run the code below to import modules that will be used throughout the rest of this notebook.\n",
    "\n",
    "<br>"
   ]
  },
  {
   "cell_type": "code",
   "execution_count": null,
   "id": "0687714d",
   "metadata": {},
   "outputs": [],
   "source": [
    "##########################################################################################\n",
    "# Import various modules into PYTHON. These will be used throughput this Jupyter Notebook\n",
    "##########################################################################################\n",
    "# import matplotlib for data visualisation\n",
    "import matplotlib.pyplot as plt\n",
    "\n",
    "# import NumPy for better matrix support\n",
    "import numpy as np\n",
    "\n",
    "# import Pickle for data serialisation\n",
    "import pickle as pkl\n",
    "\n",
    "# import wav for reading files\n",
    "from scipy.io import wavfile as wv\n",
    "\n",
    "# import audio for playing audio\n",
    "from IPython.display import Audio, display\n",
    "\n",
    "# add path for importing modules to './data'. \n",
    "import sys\n",
    "sys.path.insert(0, './data')"
   ]
  },
  {
   "cell_type": "markdown",
   "id": "93ecf219",
   "metadata": {},
   "source": [
    "<hr style=\"height:3px; border:none; background-color:blue;\">"
   ]
  },
  {
   "cell_type": "markdown",
   "id": "e0f7827a",
   "metadata": {},
   "source": [
    "<!---PYTHON ASSIGNMENT III.1 ---------------------------------------------------------------------->\n",
    "\n",
    "<div>  \n",
    "<h3 style=\"color:blue;\"> <u> Python Hands-on Assignment III.1: Folding effect or aliasing</u></h3>  \n",
    "    \n",
    "<br>\n",
    "<div style=\"background-color:#c2eafa\">\n",
    "    <br>\n",
    "    <b>Completion requirements for this assignment.</b>\n",
    "    <ul>\n",
    "        <li>Concisely explain the audible effects and the term 'frequency folding' based on your experiences with the varying $\\alpha$.</li>\n",
    "    </ul>\n",
    "<hr>\n",
    "</div>\n",
    "\n",
    "Consider the following time-continuous signal: \n",
    "\n",
    "\\begin{equation}\n",
    "    x(t) = \\cos(8000 \\pi t)\n",
    "\\end{equation}\n",
    "\n",
    "**Write a function in the code block below that does the following:** produces a series of audible (sampled) signals when $x(t)$ is sampled at the frequencies $f_s = \\alpha \\cdot 6000 Hz$, with  successively taking the values $\\alpha$ = 2; 1.85; 1.7; 1.55; 1.4; 1.25; 1.1; 0.95; 0.8; 0.65; 0.5; 0.35; and 0.2.<br><br>\n",
    "\n",
    "</div>"
   ]
  },
  {
   "cell_type": "code",
   "execution_count": null,
   "id": "9d3f4c77",
   "metadata": {},
   "outputs": [],
   "source": [
    "# Write your code here"
   ]
  },
  {
   "cell_type": "markdown",
   "id": "744f506f",
   "metadata": {},
   "source": [
    "<br>\n",
    "\n",
    "**Explain the audible effects and explain the alternative term for aliasing, namely 'frequency folding'.**\n",
    "\n",
    "<br>"
   ]
  },
  {
   "cell_type": "markdown",
   "id": "5da38abb",
   "metadata": {},
   "source": [
    "<div class=\"alert alert-block alert-success\">\n",
    "    <b>Your answer goes here.</b>\n",
    "</div>"
   ]
  },
  {
   "cell_type": "markdown",
   "id": "0f1dd434",
   "metadata": {},
   "source": [
    "<hr style=\"height:3px; border:none; background-color:blue;\">"
   ]
  },
  {
   "cell_type": "markdown",
   "id": "11b7069b",
   "metadata": {},
   "source": [
    "<!---PYTHON ASSIGNMENT III.2 ---------------------------------------------------------------------->\n",
    "\n",
    "<div>  \n",
    "<h3 style=\"color:blue;\"> <u>Python Hands-on Assignment III.2: Speed estimation</u></h3>  \n",
    "    \n",
    "<br>\n",
    "<div style=\"background-color:#c2eafa\">\n",
    "<br>\n",
    "    <b>Completion requirements for this assignment.</b>\n",
    "    <ul>\n",
    "        <li> Show the plot resulting from applying the FIR filter $s[n] = x[n] - x[n-1]$. Explain how this filter works.</li>\n",
    "        <li> Explain the merit of the filter $s[n] = \\frac{1}{N}(x[n] - x[n-M])$. Explain the effect of the choice of $M$, and concretely demonstrate this with three different values of $M$.</li>\n",
    "        <li> Explain the merit of the filter $y[n] = \\frac{1}{K + 1}\\sum\\limits_{k=0}^{K} x[n-k]$. Explain the effect of the choice of $K$, and concretely demonstrate this with three different choices of $K$.</li>\n",
    "        <li> Show the plotted speed curve for the best choices for $K$ and $M$ in the above filters. Explain how you selected the 'best' choices.</li>\n",
    "        <li> Show the plot of the impulse response of the cascaded filters.</li>\n",
    "    </ul>\n",
    "<hr>\n",
    "</div>\n",
    "\n",
    "You are given the signal `gpsdata.pkl`. This signal shows the x-position of a moving vehicle measured by a GPS sensor. The position is measured in meters, once per second. Unfortunately the signal is degraded due to random fluctuations and noise. **You are asked to determine the speed of the car over time.**\n",
    "\n",
    "Read the GPS-signal into the notebook using the command `gpsposition = np.load('data/gpsdata.pkl')[0]`. The data is read into the vector `gpsposition`. **Plot the GPS position data**.<br><br>\n",
    "\n",
    "</div>\n",
    "<br>"
   ]
  },
  {
   "cell_type": "code",
   "execution_count": null,
   "id": "52896fbc",
   "metadata": {},
   "outputs": [],
   "source": [
    "# Write your code here"
   ]
  },
  {
   "cell_type": "markdown",
   "id": "5b44c738",
   "metadata": {},
   "source": [
    "<br>\n",
    "\n",
    "<div>\n",
    "    If the GPS signal were perfect, then the speed of the car at time $n$ can simply be computed by the FIR filter\n",
    "   \n",
    "\\begin{equation}\n",
    "    s[n] = x[n] - x[n-1].\n",
    "\\end{equation}\n",
    "\n",
    "**Explain why the speed can be computed using this FIR filter. What unit does the computed speed have?**</div>\n",
    "\n",
    "<br>"
   ]
  },
  {
   "cell_type": "markdown",
   "id": "fc3b17c5",
   "metadata": {},
   "source": [
    "<div class=\"alert alert-block alert-success\">\n",
    "    <b>Your answer goes here.</b>  \n",
    "</div>"
   ]
  },
  {
   "cell_type": "markdown",
   "id": "d0f2c307",
   "metadata": {},
   "source": [
    "<br>\n",
    "\n",
    "**Implement and apply the above FIR filter to the GPS-signal and plot the result. What is your conclusion concerning the usability of this FIR filter to estimate the speed?**\n",
    "\n",
    "<br>"
   ]
  },
  {
   "cell_type": "code",
   "execution_count": null,
   "id": "881c4aa8",
   "metadata": {},
   "outputs": [],
   "source": [
    "# Write your code here"
   ]
  },
  {
   "cell_type": "markdown",
   "id": "1ba9c2de",
   "metadata": {},
   "source": [
    "<div class=\"alert alert-block alert-success\">\n",
    "    <b>Your answer goes here.</b>  \n",
    "</div>"
   ]
  },
  {
   "cell_type": "markdown",
   "id": "00c1aa94",
   "metadata": {},
   "source": [
    "<br>\n",
    "\n",
    "A much better estimate of the speed can be obtained by using the FIR filter:\n",
    "\n",
    "\\begin{equation}\n",
    "    s[n] = \\frac{1}{M}(x[n] - x[n-M])\n",
    "\\end{equation}\n",
    "\n",
    "**Implement and apply this FIR filter to the GPS-signal for at least three different values of $M$. Show the resulting plots. Make sure to use the convolution operation.** \n",
    "\n",
    "<br>"
   ]
  },
  {
   "cell_type": "code",
   "execution_count": null,
   "id": "3b69eb4f",
   "metadata": {},
   "outputs": [],
   "source": [
    "# Write your code here"
   ]
  },
  {
   "cell_type": "markdown",
   "id": "a35ecea4",
   "metadata": {},
   "source": [
    "<br>\n",
    "\n",
    "**Please answer <i>all</i> of the following question:** Why does the filter you implemented above give a better estimate of the speed of the vehicle? What is the effect of using a small/large value of $M$? What is the best value for $M$ and why?\n",
    "\n",
    "<br>"
   ]
  },
  {
   "cell_type": "markdown",
   "id": "10e9f0bf",
   "metadata": {},
   "source": [
    "<div class=\"alert alert-block alert-success\">\n",
    "    <b>Your answer goes here.</b>  \n",
    "</div>"
   ]
  },
  {
   "cell_type": "markdown",
   "id": "6143db56",
   "metadata": {},
   "source": [
    "<br>\n",
    "\n",
    "Another option is to first smooth out the random fluctuations and noise before applying the above FIR filter to estimate the speed. Use the following running-average filter:\n",
    "\n",
    "\\begin{equation}\n",
    "    y[n] = \\frac{1}{K + 1}\\sum\\limits_{k=0}^{K} x[n-k]\n",
    "\\end{equation}\n",
    "\n",
    "**Implement this running-average filter for different values of $K$. Use the convolution operator with the proper impulse response. Next, plot the filtered signal for at least three different values of $K$.**\n",
    "\n",
    "<br>"
   ]
  },
  {
   "cell_type": "code",
   "execution_count": null,
   "id": "c6567c01",
   "metadata": {},
   "outputs": [],
   "source": [
    "# Write your code here"
   ]
  },
  {
   "cell_type": "markdown",
   "id": "b4360f9e",
   "metadata": {},
   "source": [
    "<br>\n",
    "\n",
    "**Please answer <i>all</i> of the following question:** What is the benefit of using the above filter in this context? What is the effect of using a small/large value of $K$? What is the best value for $K$ and why?\n",
    "\n",
    "<br>"
   ]
  },
  {
   "cell_type": "markdown",
   "id": "8f0eb9f7",
   "metadata": {},
   "source": [
    "<div class=\"alert alert-block alert-success\">\n",
    "    <b>Your answer goes here.</b>\n",
    "</div>"
   ]
  },
  {
   "cell_type": "markdown",
   "id": "cf5c02be",
   "metadata": {},
   "source": [
    "<br>\n",
    "\n",
    "To estimate the vehicle's speed, the two filters can now be cascaded. The resulting input-output relation - or, if you like, the resulting impulse response - is now dependent on the values of $M$ and $K$. **Find the best values for $M$ and $K$ that allow you to estimate the different speeds of the vehicle. Filter the original GPS data in the vector $\\mbox{gpsposition}$. Plot the resulting speed curve.**\n",
    "\n",
    "<br>"
   ]
  },
  {
   "cell_type": "code",
   "execution_count": null,
   "id": "92ca3ad2",
   "metadata": {},
   "outputs": [],
   "source": [
    "# Write your code here"
   ]
  },
  {
   "cell_type": "markdown",
   "id": "7abe586c",
   "metadata": {},
   "source": [
    "<br>\n",
    "\n",
    "**Please answer <i>all</i> of the following question:** Based on your plot, what is your estimate for the speed of the car in meters/second? When selecting $M$ and $K$, did you select the 'best' values you stated above? If not, why not? \n",
    "\n",
    "<br>"
   ]
  },
  {
   "cell_type": "markdown",
   "id": "b14120de",
   "metadata": {},
   "source": [
    "<div class=\"alert alert-block alert-success\">\n",
    "    <b>Your answer goes here.</b>    \n",
    "</div>"
   ]
  },
  {
   "cell_type": "markdown",
   "id": "f73d3fe4",
   "metadata": {},
   "source": [
    "<br>\n",
    "\n",
    "What is the overall impulse response of the two cascaded filters that you used? **Use the code block below to compute and plot the cascaded impulse response. Use your plot(s) to answer the question: Is the order of the two filters important for the cascaded impulse response?.**\n",
    "\n",
    "<br>"
   ]
  },
  {
   "cell_type": "code",
   "execution_count": null,
   "id": "425cd8fe",
   "metadata": {},
   "outputs": [],
   "source": [
    "# Write your code here"
   ]
  },
  {
   "cell_type": "markdown",
   "id": "5962f147",
   "metadata": {},
   "source": [
    "<div class=\"alert alert-block alert-success\">\n",
    "    <b>Your answer goes here.</b>\n",
    "</div>"
   ]
  },
  {
   "cell_type": "markdown",
   "id": "58c4c23d",
   "metadata": {},
   "source": [
    "<hr style=\"height:3px; border:none; background-color:blue;\">"
   ]
  }
 ],
 "metadata": {
  "kernelspec": {
   "display_name": "Python 3 (ipykernel)",
   "language": "python",
   "name": "python3"
  },
  "language_info": {
   "codemirror_mode": {
    "name": "ipython",
    "version": 3
   },
   "file_extension": ".py",
   "mimetype": "text/x-python",
   "name": "python",
   "nbconvert_exporter": "python",
   "pygments_lexer": "ipython3",
   "version": "3.10.0"
  }
 },
 "nbformat": 4,
 "nbformat_minor": 5
}
